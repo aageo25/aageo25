{
  "nbformat": 4,
  "nbformat_minor": 0,
  "metadata": {
    "colab": {
      "provenance": [],
      "toc_visible": true,
      "mount_file_id": "1VH5dow-YQfnKbaiY0uIgNvuQ7U1GHyNf",
      "authorship_tag": "ABX9TyOhSHzG08+8Ar85I+kCb7EL",
      "include_colab_link": true
    },
    "kernelspec": {
      "name": "python3",
      "display_name": "Python 3"
    },
    "language_info": {
      "name": "python"
    }
  },
  "cells": [
    {
      "cell_type": "markdown",
      "metadata": {
        "id": "view-in-github",
        "colab_type": "text"
      },
      "source": [
        "<a href=\"https://colab.research.google.com/github/aageo25/aageo25/blob/main/pytorch_basics.ipynb\" target=\"_parent\"><img src=\"https://colab.research.google.com/assets/colab-badge.svg\" alt=\"Open In Colab\"/></a>"
      ]
    },
    {
      "cell_type": "markdown",
      "source": [
        "# Basic Pytorch operations"
      ],
      "metadata": {
        "id": "3SJ68eXgCOoa"
      }
    },
    {
      "cell_type": "code",
      "execution_count": 32,
      "metadata": {
        "colab": {
          "base_uri": "https://localhost:8080/"
        },
        "id": "PSRMu6ltCI3J",
        "outputId": "66334f91-ec40-4b0f-b7b1-5e3802529f12"
      },
      "outputs": [
        {
          "output_type": "stream",
          "name": "stdout",
          "text": [
            "tensor([[ 9, 12, 15],\n",
            "        [18, 21, 24]])\n"
          ]
        }
      ],
      "source": [
        "import torch\n",
        "\n",
        "# tensors are extensions of numpy arrays\n",
        "x = torch.tensor([[1,2,3],[4,5,6]])\n",
        "y = torch.tensor([[7,8,9],[10,11,12]])\n",
        "\n",
        "f = 2*x + y\n",
        "print(f)"
      ]
    },
    {
      "cell_type": "markdown",
      "source": [
        "## Default value initialization"
      ],
      "metadata": {
        "id": "A-4A_rfRDAKr"
      }
    },
    {
      "cell_type": "code",
      "source": [
        "shape = [2,3]\n",
        "\n",
        "xzeros = torch.zeros(shape) # default tensor with zeros values\n",
        "xones = torch.ones(shape) # default tensor with one values\n",
        "xrnd = torch.rand(shape) # default tensor with random values\n",
        "\n",
        "print(xzeros)\n",
        "print(xones)\n",
        "print(xrnd)"
      ],
      "metadata": {
        "colab": {
          "base_uri": "https://localhost:8080/"
        },
        "id": "HIJWbpToCqFU",
        "outputId": "e5937712-928f-4873-e296-e2a0f69cf2b5"
      },
      "execution_count": 4,
      "outputs": [
        {
          "output_type": "stream",
          "name": "stdout",
          "text": [
            "tensor([[0., 0., 0.],\n",
            "        [0., 0., 0.]])\n",
            "tensor([[1., 1., 1.],\n",
            "        [1., 1., 1.]])\n",
            "tensor([[0.2447, 0.7728, 0.2113],\n",
            "        [0.5941, 0.4254, 0.2938]])\n"
          ]
        }
      ]
    },
    {
      "cell_type": "markdown",
      "source": [
        "## Seed of reproducibility\n",
        "\n",
        "by setting a manual seed, one can ensure reproducibility when training a model. The seeding number is meaningless. I tan be any number, as long as it is consistently."
      ],
      "metadata": {
        "id": "8WXQNhUlDmC7"
      }
    },
    {
      "cell_type": "code",
      "source": [
        "# no manual seed\n",
        "print(torch.rand(shape))"
      ],
      "metadata": {
        "colab": {
          "base_uri": "https://localhost:8080/"
        },
        "id": "w1s5Nu_yEBdC",
        "outputId": "a9f15188-f0fb-48de-cc27-9768adc6e90c"
      },
      "execution_count": 25,
      "outputs": [
        {
          "output_type": "stream",
          "name": "stdout",
          "text": [
            "tensor([[0.1053, 0.2695, 0.3588],\n",
            "        [0.1994, 0.5472, 0.0062]])\n"
          ]
        }
      ]
    },
    {
      "cell_type": "code",
      "source": [
        "# bu setting maunal seed, the tensor values stay the same\n",
        "torch.manual_seed(42)\n",
        "\n",
        "print(torch.rand(shape))"
      ],
      "metadata": {
        "colab": {
          "base_uri": "https://localhost:8080/"
        },
        "id": "KBh0j3QVDeGf",
        "outputId": "0f605408-ff7d-4601-b538-44cae3a63be3"
      },
      "execution_count": 29,
      "outputs": [
        {
          "output_type": "stream",
          "name": "stdout",
          "text": [
            "tensor([[0.8823, 0.9150, 0.3829],\n",
            "        [0.9593, 0.3904, 0.6009]])\n"
          ]
        }
      ]
    },
    {
      "cell_type": "markdown",
      "source": [
        "## Converting between tensors and NumPy arrays"
      ],
      "metadata": {
        "id": "ZGJpm3P5Ez5c"
      }
    },
    {
      "cell_type": "code",
      "source": [
        "import numpy as np\n",
        "\n",
        "xnp = np.array([[1,2,3], [4,5,6]])\n",
        "f2 = xnp + y\n",
        "print(f2)\n",
        "f2.type()"
      ],
      "metadata": {
        "colab": {
          "base_uri": "https://localhost:8080/",
          "height": 254
        },
        "id": "llWay0eAEIHM",
        "outputId": "d54d8896-e316-4626-d62c-91b1af4154c5"
      },
      "execution_count": 33,
      "outputs": [
        {
          "output_type": "error",
          "ename": "TypeError",
          "evalue": "ignored",
          "traceback": [
            "\u001b[0;31m---------------------------------------------------------------------------\u001b[0m",
            "\u001b[0;31mTypeError\u001b[0m                                 Traceback (most recent call last)",
            "\u001b[0;32m<ipython-input-33-db78d00e6244>\u001b[0m in \u001b[0;36m<cell line: 4>\u001b[0;34m()\u001b[0m\n\u001b[1;32m      2\u001b[0m \u001b[0;34m\u001b[0m\u001b[0m\n\u001b[1;32m      3\u001b[0m \u001b[0mxnp\u001b[0m \u001b[0;34m=\u001b[0m \u001b[0mnp\u001b[0m\u001b[0;34m.\u001b[0m\u001b[0marray\u001b[0m\u001b[0;34m(\u001b[0m\u001b[0;34m[\u001b[0m\u001b[0;34m[\u001b[0m\u001b[0;36m1\u001b[0m\u001b[0;34m,\u001b[0m\u001b[0;36m2\u001b[0m\u001b[0;34m,\u001b[0m\u001b[0;36m3\u001b[0m\u001b[0;34m]\u001b[0m\u001b[0;34m,\u001b[0m \u001b[0;34m[\u001b[0m\u001b[0;36m4\u001b[0m\u001b[0;34m,\u001b[0m\u001b[0;36m5\u001b[0m\u001b[0;34m,\u001b[0m\u001b[0;36m6\u001b[0m\u001b[0;34m]\u001b[0m\u001b[0;34m]\u001b[0m\u001b[0;34m)\u001b[0m\u001b[0;34m\u001b[0m\u001b[0;34m\u001b[0m\u001b[0m\n\u001b[0;32m----> 4\u001b[0;31m \u001b[0mf2\u001b[0m \u001b[0;34m=\u001b[0m \u001b[0mxnp\u001b[0m \u001b[0;34m+\u001b[0m \u001b[0my\u001b[0m\u001b[0;34m\u001b[0m\u001b[0;34m\u001b[0m\u001b[0m\n\u001b[0m\u001b[1;32m      5\u001b[0m \u001b[0mprint\u001b[0m\u001b[0;34m(\u001b[0m\u001b[0mf2\u001b[0m\u001b[0;34m)\u001b[0m\u001b[0;34m\u001b[0m\u001b[0;34m\u001b[0m\u001b[0m\n\u001b[1;32m      6\u001b[0m \u001b[0mf2\u001b[0m\u001b[0;34m.\u001b[0m\u001b[0mtype\u001b[0m\u001b[0;34m(\u001b[0m\u001b[0;34m)\u001b[0m\u001b[0;34m\u001b[0m\u001b[0;34m\u001b[0m\u001b[0m\n",
            "\u001b[0;31mTypeError\u001b[0m: Concatenation operation is not implemented for NumPy arrays, use np.concatenate() instead. Please do not rely on this error; it may not be given on all Python implementations."
          ]
        }
      ]
    },
    {
      "cell_type": "code",
      "source": [
        "# tensor from a numpy array\n",
        "xtensor = torch.from_numpy(xnp)\n",
        "print(xtensor)\n",
        "print(xtensor.type())"
      ],
      "metadata": {
        "colab": {
          "base_uri": "https://localhost:8080/"
        },
        "id": "qWuxVVVEFHfE",
        "outputId": "b124fabf-2420-4a55-c9c6-e3033778332a"
      },
      "execution_count": 34,
      "outputs": [
        {
          "output_type": "stream",
          "name": "stdout",
          "text": [
            "tensor([[1, 2, 3],\n",
            "        [4, 5, 6]])\n",
            "torch.LongTensor\n"
          ]
        }
      ]
    },
    {
      "cell_type": "code",
      "source": [
        "# convert from a tensor to numpy\n",
        "\n",
        "print(f.type())\n",
        "fnp = f.numpy()\n",
        "type(fnp) #numpy arrays do not have a type attribute, as tensosr have"
      ],
      "metadata": {
        "colab": {
          "base_uri": "https://localhost:8080/"
        },
        "id": "33MHCnC0GFG9",
        "outputId": "0a0a6cc1-9233-4ebd-8662-3723b7abb13e"
      },
      "execution_count": 35,
      "outputs": [
        {
          "output_type": "stream",
          "name": "stdout",
          "text": [
            "torch.LongTensor\n"
          ]
        },
        {
          "output_type": "execute_result",
          "data": {
            "text/plain": [
              "numpy.ndarray"
            ]
          },
          "metadata": {},
          "execution_count": 35
        }
      ]
    },
    {
      "cell_type": "code",
      "source": [
        "# tensors and numpy arrays share the same memory space\n",
        "a = np.ones(3)\n",
        "t = torch.from_numpy(a) # create a tensor from array\n",
        "b = t.numpy() # create an array from the tensor\n",
        "b[1] = 0 # change a value in the original array\n",
        "print(a[1] == b[1])\n",
        "print(t) # changes propagate to the tensor - they share the same memory"
      ],
      "metadata": {
        "colab": {
          "base_uri": "https://localhost:8080/"
        },
        "id": "DJvCOAXYGOpP",
        "outputId": "d81092f8-54ea-4494-b209-a68e8c3a86b2"
      },
      "execution_count": 36,
      "outputs": [
        {
          "output_type": "stream",
          "name": "stdout",
          "text": [
            "True\n",
            "tensor([1., 0., 1.], dtype=torch.float64)\n"
          ]
        }
      ]
    },
    {
      "cell_type": "code",
      "source": [
        "# only certain dtypes arreys can be torned into tensors\n",
        "int8np = np.ones((3,4),dtype=np.int8)\n",
        "bad = torch.from_numpy(int8np)\n",
        "bad.type() # it seems that it accepts int8 now"
      ],
      "metadata": {
        "colab": {
          "base_uri": "https://localhost:8080/",
          "height": 35
        },
        "id": "zIZJdS6kGyhY",
        "outputId": "52733eb2-0fe9-48cb-8179-f9b406aa73e7"
      },
      "execution_count": 40,
      "outputs": [
        {
          "output_type": "execute_result",
          "data": {
            "text/plain": [
              "'torch.CharTensor'"
            ],
            "application/vnd.google.colaboratory.intrinsic+json": {
              "type": "string"
            }
          },
          "metadata": {},
          "execution_count": 40
        }
      ]
    },
    {
      "cell_type": "code",
      "source": [
        "# one can define a particular data type\n",
        "xint = torch.ones((2,3), dtype=torch.int)\n",
        "xint.type()"
      ],
      "metadata": {
        "colab": {
          "base_uri": "https://localhost:8080/",
          "height": 35
        },
        "id": "Zff4EgqyHh4w",
        "outputId": "11fd6ac8-f040-4728-d5b7-ffd00c775bd7"
      },
      "execution_count": 42,
      "outputs": [
        {
          "output_type": "execute_result",
          "data": {
            "text/plain": [
              "'torch.IntTensor'"
            ],
            "application/vnd.google.colaboratory.intrinsic+json": {
              "type": "string"
            }
          },
          "metadata": {},
          "execution_count": 42
        }
      ]
    },
    {
      "cell_type": "markdown",
      "source": [
        "## Slicing and indexing and reshaping"
      ],
      "metadata": {
        "id": "LRHhhMyHIVNx"
      }
    },
    {
      "cell_type": "code",
      "source": [
        "print(x[0])\n",
        "print(x[1][0:2])"
      ],
      "metadata": {
        "colab": {
          "base_uri": "https://localhost:8080/"
        },
        "id": "PJxgTTNYHmzh",
        "outputId": "76b5ffc9-82fb-428c-dc98-fb649a1fa3fe"
      },
      "execution_count": 44,
      "outputs": [
        {
          "output_type": "stream",
          "name": "stdout",
          "text": [
            "tensor([1, 2, 3])\n",
            "tensor([4, 5])\n"
          ]
        }
      ]
    },
    {
      "cell_type": "code",
      "source": [
        "# reshape is possible through the view() function\n",
        "print(x.view(-1)) # useful when we don't know how may columns is required\n",
        "print(x.view(3,2))\n",
        "print(x.view(6,1))"
      ],
      "metadata": {
        "colab": {
          "base_uri": "https://localhost:8080/"
        },
        "id": "twOCSMGpIhXl",
        "outputId": "a5eefbfd-c63e-4d0e-fc4a-3d6cd28313ed"
      },
      "execution_count": 45,
      "outputs": [
        {
          "output_type": "stream",
          "name": "stdout",
          "text": [
            "tensor([1, 2, 3, 4, 5, 6])\n",
            "tensor([[1, 2],\n",
            "        [3, 4],\n",
            "        [5, 6]])\n",
            "tensor([[1],\n",
            "        [2],\n",
            "        [3],\n",
            "        [4],\n",
            "        [5],\n",
            "        [6]])\n"
          ]
        }
      ]
    },
    {
      "cell_type": "code",
      "source": [
        "# tranpose: convert rows into columns\n",
        "print(x)\n",
        "print(x.transpose(0,1)) # pytorch can only swap two axes at once"
      ],
      "metadata": {
        "colab": {
          "base_uri": "https://localhost:8080/"
        },
        "id": "maC_HyF-I25D",
        "outputId": "c705e78b-d281-413a-f378-7239de2b42fc"
      },
      "execution_count": 47,
      "outputs": [
        {
          "output_type": "stream",
          "name": "stdout",
          "text": [
            "tensor([[1, 2, 3],\n",
            "        [4, 5, 6]])\n",
            "tensor([[1, 4],\n",
            "        [2, 5],\n",
            "        [3, 6]])\n"
          ]
        }
      ]
    },
    {
      "cell_type": "code",
      "source": [
        "# permute() allows to swap multiple axes\n",
        "a = torch.ones(1,2,3,4)\n",
        "print(a.size())\n",
        "print(a.transpose(0,3).transpose(1,2).size()) # swap axis in two steps\n",
        "print(a.permute(3,2,1,0).size()) # swap all axis at once"
      ],
      "metadata": {
        "colab": {
          "base_uri": "https://localhost:8080/"
        },
        "id": "xrv1_zThJR4w",
        "outputId": "c6705a23-a95e-4d7e-9cc7-3e89baadd283"
      },
      "execution_count": 50,
      "outputs": [
        {
          "output_type": "stream",
          "name": "stdout",
          "text": [
            "torch.Size([1, 2, 3, 4])\n",
            "torch.Size([4, 3, 2, 1])\n",
            "torch.Size([4, 3, 2, 1])\n"
          ]
        }
      ]
    },
    {
      "cell_type": "markdown",
      "source": [
        "## In place operations"
      ],
      "metadata": {
        "id": "WPBa3v5YKJj4"
      }
    },
    {
      "cell_type": "code",
      "source": [
        "print(x)\n",
        "x.transpose_(1,0) # equivalent to x = x.transpose()\n",
        "print(x)"
      ],
      "metadata": {
        "colab": {
          "base_uri": "https://localhost:8080/"
        },
        "id": "6HODwpeeJ06m",
        "outputId": "43f78cc4-3385-4c64-9ba7-d1a385f2fe47"
      },
      "execution_count": 51,
      "outputs": [
        {
          "output_type": "stream",
          "name": "stdout",
          "text": [
            "tensor([[1, 2, 3],\n",
            "        [4, 5, 6]])\n",
            "tensor([[1, 4],\n",
            "        [2, 5],\n",
            "        [3, 6]])\n"
          ]
        }
      ]
    },
    {
      "cell_type": "code",
      "source": [
        "x = torch.tensor([[1,2,3],[4,5,6]])\n",
        "\n",
        "print(y)\n",
        "y.add_(x*2)\n",
        "print(y)"
      ],
      "metadata": {
        "colab": {
          "base_uri": "https://localhost:8080/"
        },
        "id": "X7sO7O-UKu7d",
        "outputId": "c0a36eb4-658c-44d5-d9df-585cd6200fbf"
      },
      "execution_count": 53,
      "outputs": [
        {
          "output_type": "stream",
          "name": "stdout",
          "text": [
            "tensor([[ 7,  8,  9],\n",
            "        [10, 11, 12]])\n",
            "tensor([[ 9, 12, 15],\n",
            "        [18, 21, 24]])\n"
          ]
        }
      ]
    },
    {
      "cell_type": "markdown",
      "source": [
        "# Loading data"
      ],
      "metadata": {
        "id": "wSbnlhf9LH2d"
      }
    },
    {
      "cell_type": "markdown",
      "source": [
        "## PyTorch dataset loaders"
      ],
      "metadata": {
        "id": "H14Bti4hL62_"
      }
    },
    {
      "cell_type": "code",
      "source": [
        "import torch\n",
        "import torchvision\n",
        "import torchvision.transforms as transforms\n",
        "\n",
        "trainset = torchvision.datasets.CIFAR10(\n",
        "    root='./data', # data root directory\n",
        "    download=True,\n",
        "    transform = transforms.ToTensor()\n",
        ")\n",
        "\n",
        "trainset"
      ],
      "metadata": {
        "colab": {
          "base_uri": "https://localhost:8080/"
        },
        "id": "XwFonzq4K2Xr",
        "outputId": "3e1f25e0-fe1b-48d1-fcca-eb0b1c20da35"
      },
      "execution_count": 55,
      "outputs": [
        {
          "output_type": "stream",
          "name": "stdout",
          "text": [
            "Files already downloaded and verified\n"
          ]
        },
        {
          "output_type": "execute_result",
          "data": {
            "text/plain": [
              "Dataset CIFAR10\n",
              "    Number of datapoints: 50000\n",
              "    Root location: ./data\n",
              "    Split: Train\n",
              "    StandardTransform\n",
              "Transform: ToTensor()"
            ]
          },
          "metadata": {},
          "execution_count": 55
        }
      ]
    },
    {
      "cell_type": "code",
      "source": [
        "# check the dataset content\n",
        "for i in range(len(trainset)):\n",
        "  print('size of image {} label {}'.format(trainset[i][0].size(),trainset[i][1]))\n",
        "  if i>2: break"
      ],
      "metadata": {
        "colab": {
          "base_uri": "https://localhost:8080/"
        },
        "id": "bS1DXpxpNDeF",
        "outputId": "b564f88b-4515-4ceb-c030-3f50f925ad31"
      },
      "execution_count": 61,
      "outputs": [
        {
          "output_type": "stream",
          "name": "stdout",
          "text": [
            "size of image torch.Size([3, 32, 32]) label 6\n",
            "size of image torch.Size([3, 32, 32]) label 9\n",
            "size of image torch.Size([3, 32, 32]) label 9\n",
            "size of image torch.Size([3, 32, 32]) label 4\n"
          ]
        }
      ]
    },
    {
      "cell_type": "markdown",
      "source": [
        "## Displaying an image"
      ],
      "metadata": {
        "id": "cei9UXxAOBwk"
      }
    },
    {
      "cell_type": "code",
      "source": [
        "import matplotlib.pyplot as plt\n",
        "\n",
        "torchimage = trainset[0][0]\n",
        "npimage = torchimage.permute(1,2,0) # changes the axis order ['color', 'height', 'width] to ['height', 'width', color]\n",
        "plt.imshow(npimage) # plots the image - no need to covnert to numpy"
      ],
      "metadata": {
        "colab": {
          "base_uri": "https://localhost:8080/",
          "height": 447
        },
        "id": "kxE0CI9SNeoM",
        "outputId": "c3a4b7ec-427f-49ce-c2bf-4f0013d8a5c5"
      },
      "execution_count": 64,
      "outputs": [
        {
          "output_type": "execute_result",
          "data": {
            "text/plain": [
              "<matplotlib.image.AxesImage at 0x7fe540ef5000>"
            ]
          },
          "metadata": {},
          "execution_count": 64
        },
        {
          "output_type": "display_data",
          "data": {
            "text/plain": [
              "<Figure size 640x480 with 1 Axes>"
            ],
            "image/png": "[encoded data removed]"
          },
          "metadata": {}
        }
      ]
    },
    {
      "cell_type": "markdown",
      "source": [
        "## DataLoader"
      ],
      "metadata": {
        "id": "Dvya3hGhO7W1"
      }
    },
    {
      "cell_type": "code",
      "source": [
        "# iterator to sample the data in a specified way\n",
        "\n",
        "trainloader = torch.utils.data.DataLoader(trainset, batch_size=4, shuffle=True)\n",
        "dataiter = iter(trainloader) # create an interator from a dataloader object\n",
        "images, labels = next(dataiter) # builds tensors from images and labels in the batch\n",
        "print(images.size()) # prints the size of the batch"
      ],
      "metadata": {
        "colab": {
          "base_uri": "https://localhost:8080/"
        },
        "id": "2uN9W1RvOwuX",
        "outputId": "ce9b48ab-b6e4-4b48-ed80-5f2ee0119f5d"
      },
      "execution_count": 69,
      "outputs": [
        {
          "output_type": "stream",
          "name": "stdout",
          "text": [
            "torch.Size([4, 3, 32, 32])\n"
          ]
        }
      ]
    },
    {
      "cell_type": "code",
      "source": [
        "trainloader.generator"
      ],
      "metadata": {
        "id": "6HMhIJPVPhuF"
      },
      "execution_count": 68,
      "outputs": []
    },
    {
      "cell_type": "markdown",
      "source": [
        "## Creating a custom dataset"
      ],
      "metadata": {
        "id": "clHIq11yQmZ3"
      }
    },
    {
      "cell_type": "code",
      "source": [
        "from torch.utils.data import Dataset, DataLoader\n",
        "from torchvision import transforms\n",
        "from PIL import Image\n",
        "import torch\n",
        "import csv\n",
        "import os\n",
        "\n",
        "class ToyDataset(Dataset):\n",
        "  def __init__(self, datapath, labelsfile, transform=None):\n",
        "    self.datapath = datapath # the path to the data directory\n",
        "    self.transform = transform # a transform object\n",
        "\n",
        "    # builds a list of (name,Label) tuples\n",
        "    with open(os.path.join(self.datapath,labelsfile)) as f:\n",
        "      self.labels = [tuple(line) for line in csv.reader(f)]\n",
        "    # checks that all image files exist\n",
        "    #for i in range(len(self.labels)):\n",
        "    #  assert os.path.isfile(datapath + '/' + self.labels[i][0])\n",
        "\n",
        "  # so we ca use dataset.len()\n",
        "  def __len__(self):\n",
        "    return len(self.labels)\n",
        "\n",
        "  # so we can use indexing\n",
        "  def __getitem__(self, idx):\n",
        "    imagename, imagelabel = self.labels[idx][0:]\n",
        "    imagepath = os.path.join(self.datapath,imagename)\n",
        "    image = Image.open(open(imagepath, 'rb'))\n",
        "\n",
        "    # transform the image if required\n",
        "    if self.transform:\n",
        "      image = self.transform(image)\n",
        "      return((image,imagelabel))"
      ],
      "metadata": {
        "id": "W60y_Q1AUqrm"
      },
      "execution_count": 90,
      "outputs": []
    },
    {
      "cell_type": "code",
      "source": [
        "# creating an instance of our custom dataset\n",
        "from google.colab import drive\n",
        "drive.mount(\"/content/gdrive\")\n",
        "\n",
        "toydata = ToyDataset(\n",
        "    datapath='/content/gdrive/MyDrive/datasets/GiuseppeToys',\n",
        "    labelsfile='labels.csv',\n",
        "    transform = transforms.ToTensor()\n",
        ")\n",
        "print(toydata[0][0].size()) # the size of the first image in the dataset\n",
        "print(toydata[0][1]) # the label"
      ],
      "metadata": {
        "colab": {
          "base_uri": "https://localhost:8080/",
          "height": 359
        },
        "id": "QUPKRw2KP1lv",
        "outputId": "02b8dc39-d6b3-4b85-b5a4-a1f92a490cc0"
      },
      "execution_count": 95,
      "outputs": [
        {
          "output_type": "stream",
          "name": "stdout",
          "text": [
            "Drive already mounted at /content/gdrive; to attempt to forcibly remount, call drive.mount(\"/content/gdrive\", force_remount=True).\n"
          ]
        },
        {
          "output_type": "error",
          "ename": "FileNotFoundError",
          "evalue": "ignored",
          "traceback": [
            "\u001b[0;31m---------------------------------------------------------------------------\u001b[0m",
            "\u001b[0;31mFileNotFoundError\u001b[0m                         Traceback (most recent call last)",
            "\u001b[0;32m<ipython-input-95-816a470cb3e3>\u001b[0m in \u001b[0;36m<cell line: 10>\u001b[0;34m()\u001b[0m\n\u001b[1;32m      8\u001b[0m     \u001b[0mtransform\u001b[0m \u001b[0;34m=\u001b[0m \u001b[0mtransforms\u001b[0m\u001b[0;34m.\u001b[0m\u001b[0mToTensor\u001b[0m\u001b[0;34m(\u001b[0m\u001b[0;34m)\u001b[0m\u001b[0;34m\u001b[0m\u001b[0;34m\u001b[0m\u001b[0m\n\u001b[1;32m      9\u001b[0m )\n\u001b[0;32m---> 10\u001b[0;31m \u001b[0mprint\u001b[0m\u001b[0;34m(\u001b[0m\u001b[0mtoydata\u001b[0m\u001b[0;34m[\u001b[0m\u001b[0;36m0\u001b[0m\u001b[0;34m]\u001b[0m\u001b[0;34m[\u001b[0m\u001b[0;36m0\u001b[0m\u001b[0;34m]\u001b[0m\u001b[0;34m.\u001b[0m\u001b[0msize\u001b[0m\u001b[0;34m(\u001b[0m\u001b[0;34m)\u001b[0m\u001b[0;34m)\u001b[0m \u001b[0;31m# the size of the first image in the dataset\u001b[0m\u001b[0;34m\u001b[0m\u001b[0;34m\u001b[0m\u001b[0m\n\u001b[0m\u001b[1;32m     11\u001b[0m \u001b[0mprint\u001b[0m\u001b[0;34m(\u001b[0m\u001b[0mtoydata\u001b[0m\u001b[0;34m[\u001b[0m\u001b[0;36m0\u001b[0m\u001b[0;34m]\u001b[0m\u001b[0;34m[\u001b[0m\u001b[0;36m1\u001b[0m\u001b[0;34m]\u001b[0m\u001b[0;34m)\u001b[0m \u001b[0;31m# the label\u001b[0m\u001b[0;34m\u001b[0m\u001b[0;34m\u001b[0m\u001b[0m\n",
            "\u001b[0;32m<ipython-input-90-617b06a11a15>\u001b[0m in \u001b[0;36m__getitem__\u001b[0;34m(self, idx)\u001b[0m\n\u001b[1;32m     26\u001b[0m     \u001b[0mimagename\u001b[0m\u001b[0;34m,\u001b[0m \u001b[0mimagelabel\u001b[0m \u001b[0;34m=\u001b[0m \u001b[0mself\u001b[0m\u001b[0;34m.\u001b[0m\u001b[0mlabels\u001b[0m\u001b[0;34m[\u001b[0m\u001b[0midx\u001b[0m\u001b[0;34m]\u001b[0m\u001b[0;34m[\u001b[0m\u001b[0;36m0\u001b[0m\u001b[0;34m:\u001b[0m\u001b[0;34m]\u001b[0m\u001b[0;34m\u001b[0m\u001b[0;34m\u001b[0m\u001b[0m\n\u001b[1;32m     27\u001b[0m     \u001b[0mimagepath\u001b[0m \u001b[0;34m=\u001b[0m \u001b[0mos\u001b[0m\u001b[0;34m.\u001b[0m\u001b[0mpath\u001b[0m\u001b[0;34m.\u001b[0m\u001b[0mjoin\u001b[0m\u001b[0;34m(\u001b[0m\u001b[0mself\u001b[0m\u001b[0;34m.\u001b[0m\u001b[0mdatapath\u001b[0m\u001b[0;34m,\u001b[0m\u001b[0mimagename\u001b[0m\u001b[0;34m)\u001b[0m\u001b[0;34m\u001b[0m\u001b[0;34m\u001b[0m\u001b[0m\n\u001b[0;32m---> 28\u001b[0;31m     \u001b[0mimage\u001b[0m \u001b[0;34m=\u001b[0m \u001b[0mImage\u001b[0m\u001b[0;34m.\u001b[0m\u001b[0mopen\u001b[0m\u001b[0;34m(\u001b[0m\u001b[0mopen\u001b[0m\u001b[0;34m(\u001b[0m\u001b[0mimagepath\u001b[0m\u001b[0;34m,\u001b[0m \u001b[0;34m'rb'\u001b[0m\u001b[0;34m)\u001b[0m\u001b[0;34m)\u001b[0m\u001b[0;34m\u001b[0m\u001b[0;34m\u001b[0m\u001b[0m\n\u001b[0m\u001b[1;32m     29\u001b[0m \u001b[0;34m\u001b[0m\u001b[0m\n\u001b[1;32m     30\u001b[0m     \u001b[0;31m# transform the image if required\u001b[0m\u001b[0;34m\u001b[0m\u001b[0;34m\u001b[0m\u001b[0m\n",
            "\u001b[0;31mFileNotFoundError\u001b[0m: [Errno 2] No such file or directory: '/content/gdrive/MyDrive/datasets/GiuseppeToys/26.JPG'"
          ]
        }
      ]
    },
    {
      "cell_type": "markdown",
      "source": [
        "## Transforms\n",
        "\n",
        "More at https://pytorch.org/vision/stable/transforms.html"
      ],
      "metadata": {
        "id": "gN9QWSh1c71b"
      }
    },
    {
      "cell_type": "code",
      "source": [
        "tforms = transforms.Compose([\n",
        "    transforms.Grayscale(3), transforms.CenterCrop(300), transforms.ToTensor()\n",
        "])"
      ],
      "metadata": {
        "id": "bOBvsR3SUctA"
      },
      "execution_count": 97,
      "outputs": []
    },
    {
      "cell_type": "code",
      "source": [
        "tforms = torch.nn.Sequential(\n",
        "    transforms.CenterCrop(10),\n",
        "    transforms.Normalize((0.485, 0.456, 0.406), (0.229, 0.224, 0.225))\n",
        ")\n",
        "scripted_transforms = torch.jit.script(tforms)"
      ],
      "metadata": {
        "id": "LYXv_akgZ5UH"
      },
      "execution_count": 98,
      "outputs": []
    },
    {
      "cell_type": "code",
      "source": [],
      "metadata": {
        "id": "S8_h6bqGeFNM"
      },
      "execution_count": null,
      "outputs": []
    }
  ]
}