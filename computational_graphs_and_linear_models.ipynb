{
  "nbformat": 4,
  "nbformat_minor": 0,
  "metadata": {
    "colab": {
      "provenance": [],
      "toc_visible": true,
      "authorship_tag": "ABX9TyPcFRW5amHq1x7czGk9PdFB",
      "include_colab_link": true
    },
    "kernelspec": {
      "name": "python3",
      "display_name": "Python 3"
    },
    "language_info": {
      "name": "python"
    }
  },
  "cells": [
    {
      "cell_type": "markdown",
      "metadata": {
        "id": "view-in-github",
        "colab_type": "text"
      },
      "source": [
        "<a href=\"https://colab.research.google.com/github/aageo25/aageo25/blob/main/computational_graphs_and_linear_models.ipynb\" target=\"_parent\"><img src=\"https://colab.research.google.com/assets/colab-badge.svg\" alt=\"Open In Colab\"/></a>"
      ]
    },
    {
      "cell_type": "markdown",
      "source": [
        "# `autograd`"
      ],
      "metadata": {
        "id": "eyc_DSHjhPRL"
      }
    },
    {
      "cell_type": "code",
      "execution_count": 1,
      "metadata": {
        "colab": {
          "base_uri": "https://localhost:8080/"
        },
        "id": "nqqkpBFWhGVj",
        "outputId": "2411e4d6-6cfb-4478-efdb-5d78d0f5fa26"
      },
      "outputs": [
        {
          "output_type": "stream",
          "name": "stdout",
          "text": [
            "tensor([[2.0000, 2.6667, 3.3333],\n",
            "        [4.0000, 4.6667, 5.3333]])\n"
          ]
        }
      ],
      "source": [
        "import torch\n",
        "a = torch.tensor([[1,2,3],[4,5,6]], requires_grad=True, dtype=torch.float)\n",
        "b = a+2\n",
        "c = 2*b*b\n",
        "out = c.mean()\n",
        "out.backward() # calculates the derivative of the previous operation\n",
        "print(a.grad)"
      ]
    },
    {
      "cell_type": "code",
      "source": [
        "print(a.detach().requires_grad) # detach prevents further tracking of operations and detaches the tensor from the tracking history"
      ],
      "metadata": {
        "colab": {
          "base_uri": "https://localhost:8080/"
        },
        "id": "knvr3XW-hp5O",
        "outputId": "b5b0d96b-edcb-49a0-f256-0826ad492a3e"
      },
      "execution_count": 3,
      "outputs": [
        {
          "output_type": "stream",
          "name": "stdout",
          "text": [
            "False\n"
          ]
        }
      ]
    },
    {
      "cell_type": "code",
      "source": [
        "# error if we detached, but still needs to calculate gradients\n",
        "a = torch.ones((2,3), requires_grad=True)\n",
        "b = a + 2\n",
        "c = 2*b*b\n",
        "out = c.mean()\n",
        "out.backward(retain_graph=True) # avoids pytorch to cread a new computational graph\n",
        "print(a.grad)\n",
        "out.backward()\n",
        "print(a.grad)"
      ],
      "metadata": {
        "colab": {
          "base_uri": "https://localhost:8080/"
        },
        "id": "LMIlD9zQip37",
        "outputId": "0bef20d4-adb7-4e4c-a812-98f92d4fb972"
      },
      "execution_count": 6,
      "outputs": [
        {
          "output_type": "stream",
          "name": "stdout",
          "text": [
            "tensor([[2., 2., 2.],\n",
            "        [2., 2., 2.]])\n",
            "tensor([[4., 4., 4.],\n",
            "        [4., 4., 4.]])\n"
          ]
        }
      ]
    },
    {
      "cell_type": "markdown",
      "source": [
        "# Linear models"
      ],
      "metadata": {
        "id": "6bHjxNPrk446"
      }
    },
    {
      "cell_type": "markdown",
      "source": [
        "## Linear regression"
      ],
      "metadata": {
        "id": "NJAQodYzk74S"
      }
    },
    {
      "cell_type": "code",
      "source": [],
      "metadata": {
        "id": "qw7UTud9jSvG"
      },
      "execution_count": null,
      "outputs": []
    },
    {
      "cell_type": "code",
      "source": [],
      "metadata": {
        "id": "-czQcpYBk9p4"
      },
      "execution_count": null,
      "outputs": []
    }
  ]
}